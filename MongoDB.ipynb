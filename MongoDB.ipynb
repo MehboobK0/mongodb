{
 "cells": [
  {
   "cell_type": "markdown",
   "id": "fe1f2e8e",
   "metadata": {},
   "source": [
    "Q1. MongoDB is a popular open-source, NoSQL, document-oriented database. Non-relational databases, also known as NoSQL databases, store and manage data using flexible schemas, unlike traditional SQL databases that use rigid, tabular structures. NoSQL databases are preferred in scenarios where:\n",
    "\n",
    "There is a need for handling large volumes of unstructured or semi-structured data.\n",
    "Scalability and flexibility are crucial, as NoSQL databases can easily scale horizontally by adding more servers.\n",
    "Rapid development and iteration are required, as NoSQL databases offer schema-less designs and flexible data models.\n",
    "Q2. Features of MongoDB:\n",
    "\n",
    "Document-Oriented: MongoDB stores data in flexible, JSON-like documents, allowing for a dynamic and schema-less data model.\n",
    "High Performance: MongoDB provides high-performance read and write operations, supporting indexes, sharding, and replication.\n",
    "Scalability: MongoDB scales horizontally by distributing data across multiple servers, offering seamless scalability as data grows.\n",
    "Rich Query Language: MongoDB supports powerful query capabilities, including filtering, aggregation, and geospatial queries.\n",
    "Flexible Data Model: MongoDB's schema-less design allows for easy data modeling and modification without downtime.\n",
    "Built-in Replication and Fault Tolerance: MongoDB provides built-in replication and automated failover for high availability and data durability."
   ]
  },
  {
   "cell_type": "code",
   "execution_count": 3,
   "id": "c69d3c89",
   "metadata": {},
   "outputs": [
    {
     "name": "stdout",
     "output_type": "stream",
     "text": [
      "Collecting pymongo\n",
      "  Downloading pymongo-4.6.2-cp39-cp39-win_amd64.whl.metadata (22 kB)\n",
      "Collecting dnspython<3.0.0,>=1.16.0 (from pymongo)\n",
      "  Downloading dnspython-2.6.1-py3-none-any.whl.metadata (5.8 kB)\n",
      "Downloading pymongo-4.6.2-cp39-cp39-win_amd64.whl (472 kB)\n",
      "   ---------------------------------------- 472.8/472.8 kB 9.8 MB/s eta 0:00:00\n",
      "Downloading dnspython-2.6.1-py3-none-any.whl (307 kB)\n",
      "   ---------------------------------------- 307.7/307.7 kB 9.6 MB/s eta 0:00:00\n",
      "Installing collected packages: dnspython, pymongo\n",
      "Successfully installed dnspython-2.6.1 pymongo-4.6.2\n"
     ]
    },
    {
     "name": "stderr",
     "output_type": "stream",
     "text": [
      "WARNING: Ignoring invalid distribution -ensorflow-intel (c:\\users\\hp\\anaconda3\\lib\\site-packages)\n",
      "WARNING: Ignoring invalid distribution -umpy (c:\\users\\hp\\anaconda3\\lib\\site-packages)\n",
      "WARNING: Ignoring invalid distribution -ensorflow-intel (c:\\users\\hp\\anaconda3\\lib\\site-packages)\n",
      "WARNING: Ignoring invalid distribution -umpy (c:\\users\\hp\\anaconda3\\lib\\site-packages)\n"
     ]
    }
   ],
   "source": [
    "!pip install pymongo"
   ]
  },
  {
   "cell_type": "code",
   "execution_count": 4,
   "id": "23eaa0b0",
   "metadata": {},
   "outputs": [],
   "source": [
    "# Q3. Python code to connect MongoDB to Python, create a database, and a collection:\n",
    "\n",
    "\n",
    "import pymongo\n",
    "\n",
    "# Establishing connection to MongoDB\n",
    "myclient = pymongo.MongoClient(\"mongodb://localhost:27017/\")\n",
    "\n",
    "# Creating a database\n",
    "mydb = myclient[\"mydatabase\"]\n",
    "\n",
    "# Creating a collection\n",
    "mycol = mydb[\"customers\"]"
   ]
  },
  {
   "cell_type": "code",
   "execution_count": 6,
   "id": "552d5e77",
   "metadata": {},
   "outputs": [],
   "source": [
    "# Q4. Python code to insert one record and insert many records into the MongoDB collection, and use find() and find_one() methods to print the inserted record(s):\n",
    "\n",
    "\n",
    "# # Insert one record\n",
    "# mydict = { \"name\": \"John\", \"address\": \"Highway 37\" }\n",
    "# x = mycol.insert_one(mydict)\n",
    "\n",
    "# # Insert many records\n",
    "# mylist = [\n",
    "#   { \"name\": \"Amy\", \"address\": \"Apple st 652\"},\n",
    "#   { \"name\": \"Hannah\", \"address\": \"Mountain 21\"},\n",
    "#   { \"name\": \"Michael\", \"address\": \"Valley 345\"},\n",
    "#   { \"name\": \"Sandy\", \"address\": \"Ocean blvd 2\"},\n",
    "# ]\n",
    "# y = mycol.insert_many(mylist)\n",
    "\n",
    "# # Find one record\n",
    "# print(mycol.find_one())\n",
    "\n",
    "# # Find all records\n",
    "# for x in mycol.find():\n",
    "#     print(x)"
   ]
  },
  {
   "cell_type": "code",
   "execution_count": 7,
   "id": "e67b693d",
   "metadata": {},
   "outputs": [
    {
     "data": {
      "text/plain": [
       "Collection(Database(MongoClient(host=['localhost:27017'], document_class=dict, tz_aware=False, connect=True), 'mydatabase'), 'customers')"
      ]
     },
     "execution_count": 7,
     "metadata": {},
     "output_type": "execute_result"
    }
   ],
   "source": [
    "mycol"
   ]
  },
  {
   "cell_type": "code",
   "execution_count": null,
   "id": "2e6ef8c9",
   "metadata": {},
   "outputs": [],
   "source": [
    "# Q5. The find() method in MongoDB is used to query documents in a collection based on specified criteria. It returns a cursor object that can be iterated to retrieve matching documents. Here's an example:\n",
    "\n",
    "\n",
    "# Find documents where the address starts with the letter \"A\"\n",
    "myquery = { \"address\": { \"$regex\": \"^A\" } }\n",
    "mydoc = mycol.find(myquery)\n",
    "for x in mydoc:\n",
    "    print(x)"
   ]
  },
  {
   "cell_type": "code",
   "execution_count": null,
   "id": "e5f5a86d",
   "metadata": {},
   "outputs": [],
   "source": []
  }
 ],
 "metadata": {
  "kernelspec": {
   "display_name": "Python 3 (ipykernel)",
   "language": "python",
   "name": "python3"
  },
  "language_info": {
   "codemirror_mode": {
    "name": "ipython",
    "version": 3
   },
   "file_extension": ".py",
   "mimetype": "text/x-python",
   "name": "python",
   "nbconvert_exporter": "python",
   "pygments_lexer": "ipython3",
   "version": "3.9.12"
  }
 },
 "nbformat": 4,
 "nbformat_minor": 5
}
